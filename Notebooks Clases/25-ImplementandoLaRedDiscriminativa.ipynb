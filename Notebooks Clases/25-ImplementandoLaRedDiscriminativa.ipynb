{
  "nbformat": 4,
  "nbformat_minor": 0,
  "metadata": {
    "colab": {
      "name": "ImplementandoLaRedDiscriminativa.ipynb",
      "provenance": [],
      "collapsed_sections": [],
      "include_colab_link": true
    },
    "kernelspec": {
      "name": "python3",
      "display_name": "Python 3"
    },
    "accelerator": "GPU"
  },
  "cells": [
    {
      "cell_type": "markdown",
      "metadata": {
        "id": "view-in-github",
        "colab_type": "text"
      },
      "source": [
        "<a href=\"https://colab.research.google.com/github/INFINITY-RUBER/Curso_platzi_de_Deep_Learning_con_Pytorch/blob/main/Notebooks%20Clases/25-ImplementandoLaRedDiscriminativa.ipynb\" target=\"_parent\"><img src=\"https://colab.research.google.com/assets/colab-badge.svg\" alt=\"Open In Colab\"/></a>"
      ]
    },
    {
      "cell_type": "code",
      "metadata": {
        "id": "l3UAFnVkaJI7",
        "colab": {
          "base_uri": "https://localhost:8080/"
        },
        "outputId": "78c251b3-14a9-41c7-c3ac-0c3c9544f031"
      },
      "source": [
        "from google.colab import drive\n",
        "drive.mount('/gdrive')"
      ],
      "execution_count": 2,
      "outputs": [
        {
          "output_type": "stream",
          "text": [
            "Mounted at /gdrive\n"
          ],
          "name": "stdout"
        }
      ]
    },
    {
      "cell_type": "code",
      "metadata": {
        "id": "itIn4FKWaWU7",
        "colab": {
          "base_uri": "https://localhost:8080/"
        },
        "outputId": "96f21449-63a0-495f-cbae-8d8fe6c9bbbb"
      },
      "source": [
        "%cd '/gdrive/My Drive'"
      ],
      "execution_count": 3,
      "outputs": [
        {
          "output_type": "stream",
          "text": [
            "/gdrive/My Drive\n"
          ],
          "name": "stdout"
        }
      ]
    },
    {
      "cell_type": "code",
      "metadata": {
        "id": "1rXc9Cv-acj4"
      },
      "source": [
        "!git clone https://github.com/aitorzip/PyTorch-CycleGAN.git"
      ],
      "execution_count": null,
      "outputs": []
    },
    {
      "cell_type": "code",
      "metadata": {
        "id": "5-6tCdm6akD4",
        "colab": {
          "base_uri": "https://localhost:8080/"
        },
        "outputId": "139ce53d-263f-4961-a764-e4b9ed02fa53"
      },
      "source": [
        "%cd '/gdrive/My Drive/PyTorch-CycleGAN'"
      ],
      "execution_count": 4,
      "outputs": [
        {
          "output_type": "stream",
          "text": [
            "/gdrive/My Drive/PyTorch-CycleGAN\n"
          ],
          "name": "stdout"
        }
      ]
    },
    {
      "cell_type": "code",
      "metadata": {
        "id": "ysBk4vwGarmx"
      },
      "source": [
        "%%sh\n",
        "sh ./download_dataset summer2winter_yosemite"
      ],
      "execution_count": null,
      "outputs": []
    },
    {
      "cell_type": "code",
      "metadata": {
        "id": "d9GKgOZ0a01m"
      },
      "source": [
        "!mv datasets/summer2winter_yosemite /gdrive/My\\ Drive/dl-pytorch/datasets/"
      ],
      "execution_count": null,
      "outputs": []
    },
    {
      "cell_type": "code",
      "metadata": {
        "id": "B4BK9A7ebIa4",
        "colab": {
          "base_uri": "https://localhost:8080/"
        },
        "outputId": "790b0576-ec1d-4e97-bfed-c3544933ad75"
      },
      "source": [
        "!ls /gdrive/My\\ Drive/dl-pytorch/datasets/"
      ],
      "execution_count": 5,
      "outputs": [
        {
          "output_type": "stream",
          "text": [
            "64x64_SIGNS\t cifar-10-batches-py\t summer2winter_yosemite\n",
            "64x64_SIGNS.zip  cifar-10-python.tar.gz\n"
          ],
          "name": "stdout"
        }
      ]
    },
    {
      "cell_type": "code",
      "metadata": {
        "id": "vuZ47wdRbO-a"
      },
      "source": [
        "import torch.nn as nn\n",
        "import torch.nn.functional as F\n",
        "\n",
        "class ResidualBlock(nn.Module):\n",
        "  def __init__(self, in_features):\n",
        "    super(ResidualBlock, self).__init__()\n",
        "    \n",
        "    conv_block = [ nn.ReflectionPad2d(1), #mejor padding\n",
        "                   nn.Conv2d(in_features, in_features, 3),\n",
        "                   nn.InstanceNorm2d(in_features), #BN para GANS\n",
        "                   nn.ReLU(True),\n",
        "                   nn.ReflectionPad2d(1), #mejor para consrvar distribucion\n",
        "                   nn.Conv2d(in_features, in_features, 3),\n",
        "                   nn.InstanceNorm2d(in_features)\n",
        "                 ]\n",
        "    \n",
        "    self.conv_block = nn.Sequential(*conv_block)\n",
        "    def forward(self, x):\n",
        "      return self.conv_block(x) + x #una idea poderosa\n"
      ],
      "execution_count": 8,
      "outputs": []
    },
    {
      "cell_type": "code",
      "metadata": {
        "id": "0voqMno2ez8X"
      },
      "source": [
        "class Generator(nn.Module):\n",
        "  def __init__(self, input_nc, output_nc, n_residual_blocks=9):\n",
        "    super(Generator,self).__init__()\n",
        "    \n",
        "    # Bloqueconvolucional\n",
        "    model = [ nn.ReflectionPad2d(3),\n",
        "            nn.Conv2d(input_nc, 64, F), # I - 7 + 6 /1 +1 = I\n",
        "            nn.InstanceNorm2d(64),\n",
        "             nn.ReLU(True)\n",
        "            ]\n",
        "    \n",
        "    in_features = 64\n",
        "    out_features = in_features * 2\n",
        "    \n",
        "    #Encoding\n",
        "    for _ in range(2):\n",
        "      model += [ nn.Conv2d(in_features, out_features, 3, stride=2, padding=1), #I/2\n",
        "                 nn.InstanceNorm2d(out_features),\n",
        "                 nn.ReLU(True)\n",
        "               ]\n",
        "      in_features = out_features\n",
        "      out_features = in_features*2\n",
        "    \n",
        "    #transformaciones residuales\n",
        "    \n",
        "    for _ in range(n_residual_blocks):\n",
        "      model += [ResidualBlock(in_features)]\n",
        "    \n",
        "    #decoding\n",
        "    \n",
        "    out_features = in_features/2\n",
        "    for _ in range(2):\n",
        "      model += [ nn.ConvTransose2d(in_features, out_features, 3, stride=2, padding=1, output_padding=1), #2I\n",
        "                 nn.InstanceNorm2d(out_features),\n",
        "                 nn.ReLU(True)\n",
        "               ]\n",
        "      in_features = out_features\n",
        "      out_feature = in_features //2\n",
        "      \n",
        "      #salida\n",
        "      model += [ nn.ReflectionPad2d(3),\n",
        "                 nn.Conv2d(64, output_nc, 7), #I\n",
        "                 nn.Tanh()\n",
        "               ]\n",
        "      \n",
        "      self.model = nn.Sequential(*model)\n",
        "      \n",
        "    def forward(self,x):\n",
        "      return self.model(x)"
      ],
      "execution_count": 9,
      "outputs": []
    },
    {
      "cell_type": "code",
      "metadata": {
        "id": "qLog4xbxmQQL"
      },
      "source": [
        "class Discriminator(nn.Module):\n",
        "  \"PatchGAN: discrimina estilo o textura\"\n",
        "  def __init__(self, input_nc):\n",
        "    super(Discriminator, self).__init__()\n",
        "    \n",
        "    model = [ nn.Conv2d(input_nc, 64, 4, stride=2, padding=1), #I/2\n",
        "              nn.LeakyReLU(0.2, in_place=True)\n",
        "            ]\n",
        "    \n",
        "    model += [ nn.Conv2d(64, 128, 4, stride=2, padding=1), #I/2\n",
        "               nn-InstanceNorm2d(128), # multiplicamos los canales\n",
        "              nn.LeakyReLU(0.2, in_place=True)\n",
        "             ]\n",
        "    \n",
        "    model += [ nn.Conv2d(128, 256, 4, stride=2, padding=1), #I/2\n",
        "               nn-InstanceNorm2d(256),\n",
        "              nn.LeakyReLU(0.2, in_place=True)\n",
        "             ]\n",
        "    \n",
        "    model += [ nn.Conv2d(256, 512, 4, padding=1), #I-1\n",
        "               nn-InstanceNorm2d(512),\n",
        "              nn.LeakyReLU(0.2, in_place=True)\n",
        "             ]\n",
        "    \n",
        "    # Flatten\n",
        "    model += [nn.Conv2d(512, 1, 4, padding=1)] #I-1\n",
        "    \n",
        "    self.model == nn.Sequential(*model)\n",
        "    \n",
        "  def forward(self, x):\n",
        "    x = self.model(x)\n",
        "    return F.avg_pool2d(x, x.size()[2:]).view(x.size()[0], -1)"
      ],
      "execution_count": 10,
      "outputs": []
    },
    {
      "cell_type": "code",
      "metadata": {
        "id": "YUJ41D0rWM0Z"
      },
      "source": [
        "import sys\n",
        "sys.path.append('/gdrive/My Drive/dl-pytorch/')"
      ],
      "execution_count": 11,
      "outputs": []
    },
    {
      "cell_type": "code",
      "metadata": {
        "id": "nZRGo_fwXnKr",
        "colab": {
          "base_uri": "https://localhost:8080/"
        },
        "outputId": "712968a0-e62c-479b-d3a1-cda6607fd0fe"
      },
      "source": [
        "!ls /gdrive/My\\ Drive/dl-pytorch"
      ],
      "execution_count": 12,
      "outputs": [
        {
          "output_type": "stream",
          "text": [
            "datasets\t\t      optimizers_viz.py  __pycache__\n",
            "DeepLearningConPytorch.ipynb  plot_helpers.py\t utils.py\n"
          ],
          "name": "stdout"
        }
      ]
    },
    {
      "cell_type": "code",
      "metadata": {
        "id": "W-_kU3V3WtKe"
      },
      "source": [
        "!pip install livelossplot"
      ],
      "execution_count": null,
      "outputs": []
    },
    {
      "cell_type": "code",
      "metadata": {
        "id": "DvnzZ837fApW"
      },
      "source": [
        "!python -m pip install visdom"
      ],
      "execution_count": null,
      "outputs": []
    },
    {
      "cell_type": "code",
      "metadata": {
        "id": "3XYMKaREW1Lh"
      },
      "source": [
        "import glob \n",
        "import random \n",
        "import os \n",
        "import itertools\n",
        "from PIL import Image\n",
        "\n",
        "import torch\n",
        "\n",
        "from torch.utils.data import Dataset, DataLoader\n",
        "from PIL import Image\n",
        "import torchvision.transforms as transforms\n",
        "\n",
        "from utils import ReplayBuffer, Logger\n",
        "\n",
        "from livelossplot import PlotLosses"
      ],
      "execution_count": 15,
      "outputs": []
    },
    {
      "cell_type": "code",
      "metadata": {
        "id": "0SD3zVnQXSqO"
      },
      "source": [
        "class ImageDataset(Dataset):\n",
        "  def __init__(self, base_dir, transform=None, unaligned=False, split='train'):\n",
        "      self.transform = transforms.Compose(transform)\n",
        "      self.unaligned = unaligned\n",
        "      \n",
        "      self.files_A = sorted(glob.glob(os.path.join(base_dir, '{}/A/*.*'.format(split)))) # /A/*.*' busca en la carpeta A y trae lo que tenga extension\n",
        "      self.files_B = sorted(glob.glob(os.path.join(base_dir, '{}/B/*.*'.format(split))))\n",
        "      \n",
        "  def __len__(self):\n",
        "      return max(len(self.files_A), len(self.files_B))\n",
        "    \n",
        "  def __getitem__(self, idx):\n",
        "    image_A = self.transform(Image.open(self.files_A[index]))\n",
        "    item_B = self.transform(Image.open(self.files_B[random.randint(0,len(self.files_B)-1)]))\n",
        "    return {'A': image_A, 'B': item_B}"
      ],
      "execution_count": 16,
      "outputs": []
    },
    {
      "cell_type": "code",
      "metadata": {
        "id": "8nt0jDsyb461"
      },
      "source": [
        "epoch=0\n",
        "n_epochs = 200\n",
        "batch_size = 4\n",
        "lr = 0.0002\n",
        "size = 256\n",
        "input_nc = 3\n",
        "output = 3\n",
        "decay_epoch= 100 #pending\n",
        "\n",
        "cuda = True\n",
        "n_cpu = 8\n",
        "\n",
        "base_dir = '/gdrive/My Drive/dl-pytorch/datasets/summer2winter_yosemite/'"
      ],
      "execution_count": 17,
      "outputs": []
    },
    {
      "cell_type": "code",
      "metadata": {
        "id": "o1_v0bFSZXBd",
        "colab": {
          "base_uri": "https://localhost:8080/",
          "height": 163
        },
        "outputId": "85baeed1-fb35-4957-a12e-bed7aa760af5"
      },
      "source": [
        "lr_scheduler_G = torch.optim.lr_scheduler.LambdaLR(optimizer_G, lr_lambda=Lambda().step)"
      ],
      "execution_count": 19,
      "outputs": [
        {
          "output_type": "error",
          "ename": "NameError",
          "evalue": "ignored",
          "traceback": [
            "\u001b[0;31m---------------------------------------------------------------------------\u001b[0m",
            "\u001b[0;31mNameError\u001b[0m                                 Traceback (most recent call last)",
            "\u001b[0;32m<ipython-input-19-5ef6a63382eb>\u001b[0m in \u001b[0;36m<module>\u001b[0;34m()\u001b[0m\n\u001b[0;32m----> 1\u001b[0;31m \u001b[0mlr_scheduler_G\u001b[0m \u001b[0;34m=\u001b[0m \u001b[0mtorch\u001b[0m\u001b[0;34m.\u001b[0m\u001b[0moptim\u001b[0m\u001b[0;34m.\u001b[0m\u001b[0mlr_scheduler\u001b[0m\u001b[0;34m.\u001b[0m\u001b[0mLambdaLR\u001b[0m\u001b[0;34m(\u001b[0m\u001b[0moptimizer_G\u001b[0m\u001b[0;34m,\u001b[0m \u001b[0mlr_lambda\u001b[0m\u001b[0;34m=\u001b[0m\u001b[0mLambda\u001b[0m\u001b[0;34m(\u001b[0m\u001b[0;34m)\u001b[0m\u001b[0;34m.\u001b[0m\u001b[0mstep\u001b[0m\u001b[0;34m)\u001b[0m\u001b[0;34m\u001b[0m\u001b[0;34m\u001b[0m\u001b[0m\n\u001b[0m",
            "\u001b[0;31mNameError\u001b[0m: name 'optimizer_G' is not defined"
          ]
        }
      ]
    }
  ]
}