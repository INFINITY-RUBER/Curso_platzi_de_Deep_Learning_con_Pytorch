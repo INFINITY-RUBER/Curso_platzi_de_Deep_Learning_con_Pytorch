{
  "nbformat": 4,
  "nbformat_minor": 0,
  "metadata": {
    "colab": {
      "name": "ImplementandoDecodingparaRedGeneradora.ipynb",
      "provenance": [],
      "collapsed_sections": [],
      "include_colab_link": true
    },
    "kernelspec": {
      "name": "python3",
      "display_name": "Python 3"
    }
  },
  "cells": [
    {
      "cell_type": "markdown",
      "metadata": {
        "id": "view-in-github",
        "colab_type": "text"
      },
      "source": [
        "<a href=\"https://colab.research.google.com/github/INFINITY-RUBER/Curso_platzi_de_Deep_Learning_con_Pytorch/blob/main/Notebooks%20Clases/24.ImplementandoDecodingparaRedGeneradora.ipynb\" target=\"_parent\"><img src=\"https://colab.research.google.com/assets/colab-badge.svg\" alt=\"Open In Colab\"/></a>"
      ]
    },
    {
      "cell_type": "code",
      "metadata": {
        "id": "l3UAFnVkaJI7",
        "colab": {
          "base_uri": "https://localhost:8080/"
        },
        "outputId": "15e3967f-5f67-434c-9bb0-e777bafd5c94"
      },
      "source": [
        "from google.colab import drive\n",
        "drive.mount('/gdrive')"
      ],
      "execution_count": 1,
      "outputs": [
        {
          "output_type": "stream",
          "text": [
            "Mounted at /gdrive\n"
          ],
          "name": "stdout"
        }
      ]
    },
    {
      "cell_type": "code",
      "metadata": {
        "id": "itIn4FKWaWU7",
        "colab": {
          "base_uri": "https://localhost:8080/"
        },
        "outputId": "e9ca1afc-ea44-4b7c-ffe7-f8267cb852d1"
      },
      "source": [
        "%cd '/gdrive/My Drive'"
      ],
      "execution_count": 2,
      "outputs": [
        {
          "output_type": "stream",
          "text": [
            "/gdrive/My Drive\n"
          ],
          "name": "stdout"
        }
      ]
    },
    {
      "cell_type": "code",
      "metadata": {
        "id": "1rXc9Cv-acj4",
        "colab": {
          "base_uri": "https://localhost:8080/"
        },
        "outputId": "f20acb57-978f-4ba2-d452-5a474616d34e"
      },
      "source": [
        "!git clone https://github.com/aitorzip/PyTorch-CycleGAN.git"
      ],
      "execution_count": 4,
      "outputs": [
        {
          "output_type": "stream",
          "text": [
            "Cloning into 'PyTorch-CycleGAN'...\n",
            "remote: Enumerating objects: 60, done.\u001b[K\n",
            "remote: Total 60 (delta 0), reused 0 (delta 0), pack-reused 60\u001b[K\n",
            "Unpacking objects: 100% (60/60), done.\n"
          ],
          "name": "stdout"
        }
      ]
    },
    {
      "cell_type": "code",
      "metadata": {
        "id": "5-6tCdm6akD4",
        "colab": {
          "base_uri": "https://localhost:8080/"
        },
        "outputId": "ec4bc52f-d708-4101-fcf2-89f8390ffce1"
      },
      "source": [
        "%cd '/gdrive/My Drive/PyTorch-CycleGAN'"
      ],
      "execution_count": 3,
      "outputs": [
        {
          "output_type": "stream",
          "text": [
            "/gdrive/My Drive/PyTorch-CycleGAN\n"
          ],
          "name": "stdout"
        }
      ]
    },
    {
      "cell_type": "code",
      "metadata": {
        "id": "_ywDJpwZ_3LH",
        "outputId": "a9dbc2d6-548b-46a1-9612-758cb6d68182",
        "colab": {
          "base_uri": "https://localhost:8080/"
        }
      },
      "source": [
        "!ls\n",
        "!pwd\n"
      ],
      "execution_count": 4,
      "outputs": [
        {
          "output_type": "stream",
          "text": [
            "datasets     download_dataset  models.py  README.md  train\n",
            "datasets.py  LICENSE\t       output\t  test\t     utils.py\n",
            "/gdrive/My Drive/PyTorch-CycleGAN\n"
          ],
          "name": "stdout"
        }
      ]
    },
    {
      "cell_type": "code",
      "metadata": {
        "id": "ysBk4vwGarmx"
      },
      "source": [
        "# BUIL DATASET  (construir el dataset) \n",
        "# summer2winter_yosemite : es el dataset que quiero bajar\n",
        "%%sh\n",
        "sh ./download_dataset summer2winter_yosemite"
      ],
      "execution_count": null,
      "outputs": []
    },
    {
      "cell_type": "code",
      "metadata": {
        "id": "d9GKgOZ0a01m"
      },
      "source": [
        "# MOVER EL DATASET A DRIVE\n",
        "!mv datasets/summer2winter_yosemite /gdrive/My\\ Drive/dl-pytorch/datasets/"
      ],
      "execution_count": 13,
      "outputs": []
    },
    {
      "cell_type": "code",
      "metadata": {
        "id": "B4BK9A7ebIa4",
        "colab": {
          "base_uri": "https://localhost:8080/"
        },
        "outputId": "7033f135-f2bd-45d2-c37e-bd8d2fccd7c7"
      },
      "source": [
        "!ls /gdrive/My\\ Drive/dl-pytorch/datasets/"
      ],
      "execution_count": 5,
      "outputs": [
        {
          "output_type": "stream",
          "text": [
            "64x64_SIGNS\t cifar-10-batches-py\t summer2winter_yosemite\n",
            "64x64_SIGNS.zip  cifar-10-python.tar.gz\n"
          ],
          "name": "stdout"
        }
      ]
    },
    {
      "cell_type": "code",
      "metadata": {
        "id": "vuZ47wdRbO-a"
      },
      "source": [
        "# SEGMENTOS DE CAPAS DEGENERATIVOS\n",
        "import torch.nn as nn\n",
        "import torch.nn.functional as F\n",
        "\n",
        "class ResidualBlock(nn.Module):\n",
        "  def __init__(self, in_features):\n",
        "    super(ResidualBlock, self).__init__()\n",
        "    \n",
        "    conv_block = [ nn.ReflectionPad2d(1), #mejor padding (alarga y rellena )\n",
        "                   nn.Conv2d(in_features, in_features, 3),\n",
        "                   nn.InstanceNorm2d(in_features), # basnun BN para GANS\n",
        "                   nn.ReLU(True),\n",
        "                   nn.ReflectionPad2d(1), #mejor para consrvar distribucion de la imagen\n",
        "                   nn.Conv2d(in_features, in_features, 3),\n",
        "                   nn.InstanceNorm2d(in_features)\n",
        "                 ]\n",
        "    \n",
        "    self.conv_block = nn.Sequential(*conv_block) # para apilar la lista\n",
        "    def forward(self, x):\n",
        "      return self.conv_block(x) + x #una idea poderosa\n"
      ],
      "execution_count": null,
      "outputs": []
    },
    {
      "cell_type": "code",
      "metadata": {
        "id": "0voqMno2ez8X"
      },
      "source": [
        "# CLASE GENERADORA\n",
        "class Generator(nn.Module):\n",
        "  def __init__(self, input_nc, output_nc, n_residual_blocks=9):\n",
        "    super(Generator,self).__init__()\n",
        "    \n",
        "    # Bloqueconvolucional\n",
        "    model = [ nn.ReflectionPad2d(3),\n",
        "            nn.Conv2d(input_nc, 64, F), # I - 7 + 6 /1 +1 = I\n",
        "            nn.InstanceNorm2d(64),\n",
        "             nn.ReLU(True)\n",
        "            ]\n",
        "    \n",
        "    in_features = 64\n",
        "    out_features = in_features * 2\n",
        "    \n",
        "    #Encoding\n",
        "    for _ in range(2):\n",
        "      model += [ nn.Conv2d(in_features, out_features, 3, stride=2, padding=1), # divide por 2 el tamaño de la imgangen de entrada.  I/2\n",
        "                 nn.InstanceNorm2d(out_features),\n",
        "                 nn.ReLU(True)\n",
        "               ]\n",
        "      in_features = out_features\n",
        "      out_features = in_features*2\n",
        "    \n",
        "    #transformaciones residuales\n",
        "    \n",
        "    for _ in range(n_residual_blocks):\n",
        "      model += [ResidualBlock(in_features)]\n",
        "    \n",
        "    #decoding\n",
        "    \n",
        "    out_features = in_features/2\n",
        "    for _ in range(2):\n",
        "      model += [ nn.ConvTransose2d(in_features, out_features, 3, stride=2, padding=1, output_padding=1), #2I\n",
        "                 nn.InstanceNorm2d(out_features),\n",
        "                 nn.ReLU(True)\n",
        "               ]\n",
        "      in_features = out_features\n",
        "      out_feature = in_features //2\n",
        "      \n",
        "      #salida\n",
        "      model += [ nn.ReflectionPad2d(3),\n",
        "                 nn.Conv2d(64, output_nc, 7), #I\n",
        "                 nn.Tanh()\n",
        "               ]\n",
        "      \n",
        "      self.model = nn.Sequential(*model)\n",
        "      \n",
        "    def forward(self,x):\n",
        "      return self.model(x)"
      ],
      "execution_count": null,
      "outputs": []
    }
  ]
}