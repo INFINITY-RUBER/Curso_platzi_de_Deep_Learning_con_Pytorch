{
  "nbformat": 4,
  "nbformat_minor": 0,
  "metadata": {
    "colab": {
      "name": "CrearUnaRedNeuronalenPytorch.ipynb",
      "provenance": [],
      "include_colab_link": true
    },
    "kernelspec": {
      "name": "python3",
      "display_name": "Python 3"
    }
  },
  "cells": [
    {
      "cell_type": "markdown",
      "metadata": {
        "id": "view-in-github",
        "colab_type": "text"
      },
      "source": [
        "<a href=\"https://colab.research.google.com/github/INFINITY-RUBER/Curso_platzi_de_Deep_Learning_con_Pytorch/blob/main/Notebooks%20Clases/7-%20CrearUnaRedNeuronalenPytorch.ipynb\" target=\"_parent\"><img src=\"https://colab.research.google.com/assets/colab-badge.svg\" alt=\"Open In Colab\"/></a>"
      ]
    },
    {
      "cell_type": "code",
      "metadata": {
        "id": "FpPL78RH0mHZ"
      },
      "source": [
        "import torch\n",
        "import torch.nn as nn # para implementar capas\n",
        "import torch.nn.functional as F #capas sin parametros"
      ],
      "execution_count": 2,
      "outputs": []
    },
    {
      "cell_type": "code",
      "metadata": {
        "id": "OXViqVPb0_Lt"
      },
      "source": [
        "class Net(nn.Module):\n",
        "  def __init__(self, num_channels):\n",
        "    super(Net,self).__init__() # inicializar la clase padre\n",
        "    \n",
        "    self.num_channels = num_channels\n",
        "\n",
        "    # ************** 3 capas convolucionales ************************\n",
        "    self.conv1 = nn.Conv2d(3, self.num_channels, 3, stride = 1, padding = 1)\n",
        "    self.conv2 = nn.Conv2d(self.num_channels, self.num_channels*2, 3, stride = 1, padding = 1)\n",
        "    self.conv3 = nn.Conv2d(self.num_channels*2, self.num_channels*4, 3, stride = 1, padding = 1)\n",
        "    \n",
        "    # ************** 2 capas full conete ************************    \n",
        "    self.fc1 = nn.Linear(self.num_channels*4*8*8, self.num_channels*4)\n",
        "    self.fc2 = nn-Linear(self.num_channels*4, 6)\n",
        "    \n",
        "    def forward(self,x):\n",
        "      #Empieza 3x64x64\n",
        "      x = self.conv1(x) # num_channels x 64 x 64\n",
        "      x = F.relu(F.max_pool2d(x, 2)) # num_channels x 32 x 32\n",
        "      x = self.conv2(x) # num_channels*2 x 32 x32\n",
        "      x = F.relu(F.max_pool2d(x, 2)) #num_channels*2 x 16 x 16\n",
        "      x = self.conv3(x) # num_channels*4 x16x16\n",
        "      x = F.relu(F.max_pool2d(x, 2)) # num_channels*4 x 8 x 8\n",
        "      \n",
        "      #flatten\n",
        "      x = x.view(-1, self.num_channels*4*8*8)\n",
        "      \n",
        "      #fc\n",
        "      x = self.fc1(x)\n",
        "      x = F.relu(x)\n",
        "      x = self.fc2(x)\n",
        "      \n",
        "      #log_softmax\n",
        "      \n",
        "      x = F.log_softmax(x, dim=1)\n",
        "      \n",
        "      return x"
      ],
      "execution_count": null,
      "outputs": []
    }
  ]
}