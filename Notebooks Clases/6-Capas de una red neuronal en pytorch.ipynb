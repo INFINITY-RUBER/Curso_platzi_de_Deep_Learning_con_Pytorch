{
  "nbformat": 4,
  "nbformat_minor": 0,
  "metadata": {
    "colab": {
      "name": "Capas de una red neuronal en pytorch.ipynb",
      "provenance": [],
      "include_colab_link": true
    },
    "kernelspec": {
      "name": "python3",
      "display_name": "Python 3"
    }
  },
  "cells": [
    {
      "cell_type": "markdown",
      "metadata": {
        "id": "view-in-github",
        "colab_type": "text"
      },
      "source": [
        "<a href=\"https://colab.research.google.com/github/INFINITY-RUBER/Curso_platzi_de_Deep_Learning_con_Pytorch/blob/main/Notebooks%20Clases/6-Capas%20de%20una%20red%20neuronal%20en%20pytorch.ipynb\" target=\"_parent\"><img src=\"https://colab.research.google.com/assets/colab-badge.svg\" alt=\"Open In Colab\"/></a>"
      ]
    },
    {
      "cell_type": "code",
      "metadata": {
        "id": "jndfLwZbuLK_"
      },
      "source": [
        "import torch\n",
        "import torch.nn as nn\n",
        "\n",
        "linear = nn.Linear(in_features=4096, out_features=10) # tensores de dimension 1 input\n",
        "conv = nn.Conv2d(in_channels=3, out_channels=9, kernel_size=3, stride=1, padding=1) #modificar los canales, no va a modificar\n",
        "relu = nn.ReLU(False) # rectifay lineal unid  out  un nuevo tensor\n",
        "# "
      ],
      "execution_count": 1,
      "outputs": []
    },
    {
      "cell_type": "code",
      "metadata": {
        "id": "b9V3bd4FwpS3",
        "colab": {
          "base_uri": "https://localhost:8080/"
        },
        "outputId": "2f8628bf-135e-469e-f4a8-6bd86a1a1493"
      },
      "source": [
        "x = torch.randn(4096)\n",
        "y = linear(x)\n",
        "y.size()"
      ],
      "execution_count": 2,
      "outputs": [
        {
          "output_type": "execute_result",
          "data": {
            "text/plain": [
              "torch.Size([10])"
            ]
          },
          "metadata": {
            "tags": []
          },
          "execution_count": 2
        }
      ]
    },
    {
      "cell_type": "code",
      "metadata": {
        "id": "IoGqXL6Ew82B"
      },
      "source": [
        "x = torch.randn(1,3,7,7)\n",
        "y = conv(x)\n",
        "z = relu(x)"
      ],
      "execution_count": 3,
      "outputs": []
    },
    {
      "cell_type": "code",
      "metadata": {
        "id": "O0hBNQ__xKUB",
        "colab": {
          "base_uri": "https://localhost:8080/"
        },
        "outputId": "d9c032a7-12cc-40c3-af34-69d9540c46cc"
      },
      "source": [
        "y.size() "
      ],
      "execution_count": 5,
      "outputs": [
        {
          "output_type": "execute_result",
          "data": {
            "text/plain": [
              "torch.Size([1, 9, 7, 7])"
            ]
          },
          "metadata": {
            "tags": []
          },
          "execution_count": 5
        }
      ]
    },
    {
      "cell_type": "code",
      "metadata": {
        "id": "Qdpd_abbxPVC",
        "colab": {
          "base_uri": "https://localhost:8080/"
        },
        "outputId": "8758f3ca-a530-42ad-c148-269a6b41c4a8"
      },
      "source": [
        "x"
      ],
      "execution_count": 6,
      "outputs": [
        {
          "output_type": "execute_result",
          "data": {
            "text/plain": [
              "tensor([[[[-5.6036e-01,  1.1405e+00,  9.2047e-01,  1.4753e-01,  1.4281e+00,\n",
              "            5.1216e-01, -4.0836e-01],\n",
              "          [-1.6461e+00,  1.9424e-01,  9.6100e-01, -3.9042e-01, -4.5947e-01,\n",
              "            1.0660e+00, -1.7211e+00],\n",
              "          [ 7.9886e-01,  1.5319e-01,  1.1281e+00,  2.4681e-01,  1.0994e+00,\n",
              "           -9.5835e-01, -7.7325e-01],\n",
              "          [-3.5453e-01, -8.3014e-01, -9.4362e-01,  4.0214e-01,  5.4778e-01,\n",
              "            1.2734e+00, -7.3159e-01],\n",
              "          [-5.3527e-02, -3.3669e-01, -8.8400e-01, -1.1874e+00, -2.1020e+00,\n",
              "            2.7831e+00,  2.5876e-01],\n",
              "          [ 3.0814e-01,  9.9570e-02, -7.8335e-01, -3.1358e-01,  2.6738e-01,\n",
              "            7.1866e-01, -1.1286e+00],\n",
              "          [ 6.5873e-02,  9.5579e-01,  9.2874e-01, -2.8613e-01, -2.7573e-01,\n",
              "            5.5693e-02,  8.1526e-02]],\n",
              "\n",
              "         [[-1.8191e-02,  4.7075e-01,  6.7383e-01,  1.2832e-01,  2.7960e-01,\n",
              "            9.8535e-02,  9.8403e-01],\n",
              "          [ 6.4714e-01,  9.6037e-01, -9.8644e-01, -1.0787e-01, -1.6031e+00,\n",
              "            6.8976e-01,  4.7206e-01],\n",
              "          [ 1.5454e+00,  1.5768e+00,  3.6284e-01,  5.0588e-01,  8.4721e-01,\n",
              "           -4.9622e-01, -8.5968e-01],\n",
              "          [-2.4102e-01,  1.0944e+00, -8.7326e-01, -4.3830e-01, -1.1181e-01,\n",
              "            5.6488e-01, -5.8241e-01],\n",
              "          [-6.7047e-01,  1.3894e+00,  4.3742e-01,  4.6267e-01, -8.6575e-02,\n",
              "           -1.8622e+00, -1.7129e+00],\n",
              "          [ 1.2661e-01,  1.1795e-01, -1.2508e+00,  8.0043e-01,  5.3617e-01,\n",
              "            6.0212e-01, -1.1965e+00],\n",
              "          [ 2.3941e-01,  1.0573e+00,  1.8476e+00, -8.2604e-01, -4.2502e-01,\n",
              "            7.3489e-01, -1.6582e+00]],\n",
              "\n",
              "         [[-5.6427e-01,  1.5552e-01,  4.0267e-01, -9.7407e-01, -1.2356e+00,\n",
              "            6.0497e-01, -6.4466e-01],\n",
              "          [ 4.4740e-01, -2.8224e-01,  4.0641e-01,  8.6606e-01, -9.4313e-01,\n",
              "           -2.1812e-01, -1.3590e-01],\n",
              "          [ 6.3161e-01, -5.0377e-01,  7.2769e-01,  9.7123e-02, -4.8929e-01,\n",
              "           -2.0071e-01,  9.8927e-01],\n",
              "          [ 7.9387e-01, -7.5684e-01,  4.6426e-01,  2.6920e-01,  1.0124e+00,\n",
              "            6.8949e-01, -6.9603e-01],\n",
              "          [-3.2873e-01,  2.4263e-01, -1.4892e-03, -3.1899e-01,  2.1995e+00,\n",
              "           -5.4328e-01, -5.3399e-01],\n",
              "          [-1.5612e-01,  2.8646e-01,  7.3168e-01,  4.6497e-01, -7.0697e-01,\n",
              "            7.1095e-02, -8.7869e-01],\n",
              "          [ 1.3305e+00, -1.5270e+00,  1.5285e-01, -2.1436e+00, -1.0798e-01,\n",
              "           -1.1839e-01, -1.1465e+00]]]])"
            ]
          },
          "metadata": {
            "tags": []
          },
          "execution_count": 6
        }
      ]
    },
    {
      "cell_type": "code",
      "metadata": {
        "id": "8Re8NGblxRAJ",
        "colab": {
          "base_uri": "https://localhost:8080/"
        },
        "outputId": "18d13934-e94e-4a39-a22f-043e0e280bf6"
      },
      "source": [
        "z # relu  aplana los numero deja las positivos y los negativos a cero"
      ],
      "execution_count": 7,
      "outputs": [
        {
          "output_type": "execute_result",
          "data": {
            "text/plain": [
              "tensor([[[[0.0000, 1.1405, 0.9205, 0.1475, 1.4281, 0.5122, 0.0000],\n",
              "          [0.0000, 0.1942, 0.9610, 0.0000, 0.0000, 1.0660, 0.0000],\n",
              "          [0.7989, 0.1532, 1.1281, 0.2468, 1.0994, 0.0000, 0.0000],\n",
              "          [0.0000, 0.0000, 0.0000, 0.4021, 0.5478, 1.2734, 0.0000],\n",
              "          [0.0000, 0.0000, 0.0000, 0.0000, 0.0000, 2.7831, 0.2588],\n",
              "          [0.3081, 0.0996, 0.0000, 0.0000, 0.2674, 0.7187, 0.0000],\n",
              "          [0.0659, 0.9558, 0.9287, 0.0000, 0.0000, 0.0557, 0.0815]],\n",
              "\n",
              "         [[0.0000, 0.4707, 0.6738, 0.1283, 0.2796, 0.0985, 0.9840],\n",
              "          [0.6471, 0.9604, 0.0000, 0.0000, 0.0000, 0.6898, 0.4721],\n",
              "          [1.5454, 1.5768, 0.3628, 0.5059, 0.8472, 0.0000, 0.0000],\n",
              "          [0.0000, 1.0944, 0.0000, 0.0000, 0.0000, 0.5649, 0.0000],\n",
              "          [0.0000, 1.3894, 0.4374, 0.4627, 0.0000, 0.0000, 0.0000],\n",
              "          [0.1266, 0.1179, 0.0000, 0.8004, 0.5362, 0.6021, 0.0000],\n",
              "          [0.2394, 1.0573, 1.8476, 0.0000, 0.0000, 0.7349, 0.0000]],\n",
              "\n",
              "         [[0.0000, 0.1555, 0.4027, 0.0000, 0.0000, 0.6050, 0.0000],\n",
              "          [0.4474, 0.0000, 0.4064, 0.8661, 0.0000, 0.0000, 0.0000],\n",
              "          [0.6316, 0.0000, 0.7277, 0.0971, 0.0000, 0.0000, 0.9893],\n",
              "          [0.7939, 0.0000, 0.4643, 0.2692, 1.0124, 0.6895, 0.0000],\n",
              "          [0.0000, 0.2426, 0.0000, 0.0000, 2.1995, 0.0000, 0.0000],\n",
              "          [0.0000, 0.2865, 0.7317, 0.4650, 0.0000, 0.0711, 0.0000],\n",
              "          [1.3305, 0.0000, 0.1528, 0.0000, 0.0000, 0.0000, 0.0000]]]])"
            ]
          },
          "metadata": {
            "tags": []
          },
          "execution_count": 7
        }
      ]
    },
    {
      "cell_type": "code",
      "metadata": {
        "id": "TIZgCqFHxVh5",
        "colab": {
          "base_uri": "https://localhost:8080/"
        },
        "outputId": "4051009b-08ab-40de-9ecf-902e2056e7f5"
      },
      "source": [
        "for name, p in linear.named_parameters():\n",
        "  print(name)\n",
        "  print(p.size())\n",
        "  print()"
      ],
      "execution_count": 8,
      "outputs": [
        {
          "output_type": "stream",
          "text": [
            "weight\n",
            "torch.Size([10, 4096])\n",
            "\n",
            "bias\n",
            "torch.Size([10])\n",
            "\n"
          ],
          "name": "stdout"
        }
      ]
    }
  ]
}